{
 "cells": [
  {
   "cell_type": "code",
   "execution_count": 11,
   "id": "e30e224d-f6d7-4721-b4a8-e33920989ece",
   "metadata": {},
   "outputs": [],
   "source": [
    "# implementation with training and testing\n",
    "import sklearn, scipy"
   ]
  },
  {
   "cell_type": "code",
   "execution_count": 12,
   "id": "d99c9ecf-0b30-444a-bd9f-2b4ea3c95382",
   "metadata": {},
   "outputs": [],
   "source": [
    "from sklearn.datasets import load_iris\n",
    "from sklearn.model_selection import train_test_split\n",
    "from sklearn.metrics import accuracy_score"
   ]
  },
  {
   "cell_type": "code",
   "execution_count": 13,
   "id": "0fecee96-5023-44d2-a6c4-375c4592447c",
   "metadata": {},
   "outputs": [],
   "source": [
    "X, Y = load_iris(return_X_y=True)"
   ]
  },
  {
   "cell_type": "code",
   "execution_count": 14,
   "id": "49febb5e-89bd-4de2-8028-8742b6eac016",
   "metadata": {},
   "outputs": [],
   "source": [
    "X_train, X_test, y_train, y_test = train_test_split(X, Y, test_size=0.2)"
   ]
  },
  {
   "cell_type": "code",
   "execution_count": 15,
   "id": "9129d25d-824d-403c-94a5-a19eecc351e5",
   "metadata": {},
   "outputs": [],
   "source": [
    "from sklearn.neighbors import KNeighborsClassifier\n",
    "knn = KNeighborsClassifier(weights='distance')\n",
    "knn.fit(X_train, y_train)\n",
    "category = { 0 : \"setosa\", 1: \"versicolor\", 2: \"Virginica\"}"
   ]
  },
  {
   "cell_type": "code",
   "execution_count": 16,
   "id": "dc982e2d-cefa-4195-adcd-1db559f890ab",
   "metadata": {},
   "outputs": [
    {
     "name": "stdout",
     "output_type": "stream",
     "text": [
      "1\n",
      "versicolor\n"
     ]
    }
   ],
   "source": [
    "out = knn.predict(X_test)\n",
    "print(out[0])\n",
    "print(category[out[0]])"
   ]
  },
  {
   "cell_type": "code",
   "execution_count": 17,
   "id": "359e7da5-d20e-4a25-b467-e5f311716e06",
   "metadata": {},
   "outputs": [
    {
     "name": "stdout",
     "output_type": "stream",
     "text": [
      "100.0 %\n"
     ]
    }
   ],
   "source": [
    "# training accuracy\n",
    "print(knn.score(X_train, y_train)*100, '%')"
   ]
  },
  {
   "cell_type": "code",
   "execution_count": 18,
   "id": "cc87c21e-9aa8-4650-b060-13d66b13a70c",
   "metadata": {},
   "outputs": [
    {
     "name": "stdout",
     "output_type": "stream",
     "text": [
      "93.33333333333333 %\n"
     ]
    }
   ],
   "source": [
    "# testing accuracy\n",
    "print(accuracy_score(y_test, out)*100, '%')"
   ]
  }
 ],
 "metadata": {
  "kernelspec": {
   "display_name": "Python 3 (ipykernel)",
   "language": "python",
   "name": "python3"
  },
  "language_info": {
   "codemirror_mode": {
    "name": "ipython",
    "version": 3
   },
   "file_extension": ".py",
   "mimetype": "text/x-python",
   "name": "python",
   "nbconvert_exporter": "python",
   "pygments_lexer": "ipython3",
   "version": "3.8.18"
  }
 },
 "nbformat": 4,
 "nbformat_minor": 5
}
