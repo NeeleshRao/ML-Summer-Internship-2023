{
 "cells": [
  {
   "cell_type": "code",
   "execution_count": 4,
   "id": "91403f4c-706e-4f4d-9f23-a240b23d3313",
   "metadata": {},
   "outputs": [
    {
     "name": "stdout",
     "output_type": "stream",
     "text": [
      "Genuine Bill\n",
      "Training accuracy:  100.0 %\n",
      "Testing accuracy:  99.11111111111111 %\n"
     ]
    }
   ],
   "source": [
    "import numpy as np\n",
    "import pandas as pd\n",
    "from sklearn.datasets import load_breast_cancer\n",
    "from sklearn.neighbors import KNeighborsClassifier\n",
    "from sklearn.model_selection import train_test_split\n",
    "from sklearn.metrics import accuracy_score\n",
    "\n",
    "data = pd.read_csv(\"fake_bills.csv\", sep=\";\")\n",
    "data.fillna(data.mean(), inplace=True)\n",
    "# data.dropna(inplace=True)\n",
    "Y = data[\"is_genuine\"].apply(lambda x: 1 if x else 0).values\n",
    "X = data.drop(\"is_genuine\", axis=1).values\n",
    "cat = np.array([\"Counterfeit Bill\", \"Genuine Bill\"])\n",
    "X_train, X_test, Y_train, Y_test = train_test_split(X, Y, test_size=0.3)\n",
    "\n",
    "knn = KNeighborsClassifier(5, weights=\"distance\")\n",
    "knn.fit(X_train, Y_train)\n",
    "out = knn.predict(X_test)\n",
    "# print(\"The result is \", cat[out])\n",
    "\n",
    "if np.all(out == Y_test):\n",
    "    print(\"Accuracy 100%\")\n",
    "\n",
    "print(cat[knn.predict([[171.46, 103.36, 103.66, 3, 2.99, 113.09]])[0]])\n",
    "\n",
    "print(\"Training accuracy: \", knn.score(X_train, Y_train) * 100, \"%\")\n",
    "print(\"Testing accuracy: \", accuracy_score(Y_test, out) * 100, \"%\")"
   ]
  },
  {
   "cell_type": "code",
   "execution_count": null,
   "id": "717909c3-c5c3-48f5-a577-2218e3fc27fa",
   "metadata": {},
   "outputs": [],
   "source": []
  }
 ],
 "metadata": {
  "kernelspec": {
   "display_name": "Python 3 (ipykernel)",
   "language": "python",
   "name": "python3"
  },
  "language_info": {
   "codemirror_mode": {
    "name": "ipython",
    "version": 3
   },
   "file_extension": ".py",
   "mimetype": "text/x-python",
   "name": "python",
   "nbconvert_exporter": "python",
   "pygments_lexer": "ipython3",
   "version": "3.8.18"
  }
 },
 "nbformat": 4,
 "nbformat_minor": 5
}
